{
 "cells": [
  {
   "cell_type": "code",
   "execution_count": 6,
   "source": [
    "import matplotlib.pyplot as plt\r\n",
    "from sklearn import datasets\r\n",
    "from sklearn.cluster import KMeans\r\n",
    "\r\n",
    "iris = datasets.load_iris()\r\n",
    "\r\n",
    "samples = iris.data\r\n",
    "\r\n",
    "# Create a model that finds 3 clusters\r\n",
    "model = KMeans(n_clusters=3)\r\n",
    "\r\n",
    "# Fit the model to samples\r\n",
    "model.fit(samples)\r\n",
    "\r\n",
    "# Determine the labels of samples \r\n",
    "labels = model.predict(samples)\r\n",
    "\r\n",
    "# Print the labels\r\n",
    "print(labels)"
   ],
   "outputs": [
    {
     "output_type": "stream",
     "name": "stdout",
     "text": [
      "[1 1 1 1 1 1 1 1 1 1 1 1 1 1 1 1 1 1 1 1 1 1 1 1 1 1 1 1 1 1 1 1 1 1 1 1 1\n",
      " 1 1 1 1 1 1 1 1 1 1 1 1 1 2 2 0 2 2 2 2 2 2 2 2 2 2 2 2 2 2 2 2 2 2 2 2 2\n",
      " 2 2 2 0 2 2 2 2 2 2 2 2 2 2 2 2 2 2 2 2 2 2 2 2 2 2 0 2 0 0 0 0 2 0 0 0 0\n",
      " 0 0 2 2 0 0 0 0 2 0 2 0 2 0 0 2 2 0 0 0 0 0 2 0 0 0 0 2 0 0 0 2 0 0 0 2 0\n",
      " 0 2]\n"
     ]
    }
   ],
   "metadata": {}
  },
  {
   "cell_type": "code",
   "execution_count": 7,
   "source": [
    "import numpy as np\r\n",
    "\r\n",
    "# Store the new Iris measurements\r\n",
    "new_samples = np.array([[5.7, 4.4, 1.5, 0.4],\r\n",
    "   [6.5, 3. , 5.5, 0.4],\r\n",
    "   [5.8, 2.7, 5.1, 1.9]])\r\n",
    "print(new_samples)"
   ],
   "outputs": [
    {
     "output_type": "stream",
     "name": "stdout",
     "text": [
      "[[5.7 4.4 1.5 0.4]\n",
      " [6.5 3.  5.5 0.4]\n",
      " [5.8 2.7 5.1 1.9]]\n"
     ]
    }
   ],
   "metadata": {}
  },
  {
   "cell_type": "code",
   "execution_count": 8,
   "source": [
    "# Predict labels for the new_samples\r\n",
    "new_labels = model.predict(new_samples)\r\n",
    "\r\n",
    "print(new_labels)"
   ],
   "outputs": [
    {
     "output_type": "stream",
     "name": "stdout",
     "text": [
      "[1 2 2]\n"
     ]
    }
   ],
   "metadata": {}
  }
 ],
 "metadata": {
  "orig_nbformat": 4,
  "language_info": {
   "name": "python",
   "version": "3.9.6",
   "mimetype": "text/x-python",
   "codemirror_mode": {
    "name": "ipython",
    "version": 3
   },
   "pygments_lexer": "ipython3",
   "nbconvert_exporter": "python",
   "file_extension": ".py"
  },
  "kernelspec": {
   "name": "python3",
   "display_name": "Python 3.9.6 64-bit"
  },
  "interpreter": {
   "hash": "e4b42aaf920507b6c79f02f50e735f729b9c4d44cff35d2f3684ba1eb96053a0"
  }
 },
 "nbformat": 4,
 "nbformat_minor": 2
}